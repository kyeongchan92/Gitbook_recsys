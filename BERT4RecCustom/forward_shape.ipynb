{
 "cells": [
  {
   "cell_type": "code",
   "execution_count": 1,
   "metadata": {},
   "outputs": [
    {
     "name": "stderr",
     "output_type": "stream",
     "text": [
      "/Users/kyeongchanlee/.pyenv/versions/3.9.9/envs/candidate/lib/python3.9/site-packages/tqdm/auto.py:22: TqdmWarning: IProgress not found. Please update jupyter and ipywidgets. See https://ipywidgets.readthedocs.io/en/stable/user_install.html\n",
      "  from .autonotebook import tqdm as notebook_tqdm\n"
     ]
    }
   ],
   "source": [
    "import torch"
   ]
  },
  {
   "cell_type": "markdown",
   "metadata": {},
   "source": [
    "dataloader -> model(seqs, attrs)\n",
    "x, attrs = seqs, attrs\n",
    "-> embedding(x, attrs)"
   ]
  },
  {
   "cell_type": "code",
   "execution_count": 2,
   "metadata": {},
   "outputs": [],
   "source": [
    "import pickle\n",
    "with open('test_batch.pkl', 'rb') as q:\n",
    "    one_batch = pickle.load(q)\n",
    "seqs = one_batch['seqs']\n",
    "attrs = one_batch['attrs']\n",
    "labels = one_batch['labels']\n"
   ]
  },
  {
   "cell_type": "code",
   "execution_count": 3,
   "metadata": {},
   "outputs": [
    {
     "data": {
      "text/plain": [
       "tensor([[1446, 3707,  983,  ..., 2715, 2860, 3707],\n",
       "        [1261, 2890, 1124,  ..., 2944, 3513, 3707],\n",
       "        [2054, 1205, 1768,  ..., 3707, 1144, 1130],\n",
       "        ...,\n",
       "        [1194, 2593, 3707,  ...,  190, 1126,  359],\n",
       "        [   0,    0,    0,  ...,  581, 1191, 1282],\n",
       "        [ 964, 2782, 3707,  ...,  890, 2998, 1243]])"
      ]
     },
     "execution_count": 3,
     "metadata": {},
     "output_type": "execute_result"
    }
   ],
   "source": [
    "seqs"
   ]
  },
  {
   "cell_type": "code",
   "execution_count": 4,
   "metadata": {},
   "outputs": [
    {
     "data": {
      "text/plain": [
       "tensor([[233, 302,  73,  ...,  89,  89, 302],\n",
       "        [244, 135,  97,  ..., 245,  57, 302],\n",
       "        [262,  58,  93,  ..., 302,  90, 270],\n",
       "        ...,\n",
       "        [134,  67, 302,  ..., 262,  28,  25],\n",
       "        [  0,   0,   0,  ..., 245, 245, 281],\n",
       "        [265, 280, 302,  ..., 264, 135, 297]])"
      ]
     },
     "execution_count": 4,
     "metadata": {},
     "output_type": "execute_result"
    }
   ],
   "source": [
    "attrs"
   ]
  },
  {
   "cell_type": "code",
   "execution_count": 31,
   "metadata": {},
   "outputs": [
    {
     "name": "stdout",
     "output_type": "stream",
     "text": [
      "  0.7878\n"
     ]
    }
   ],
   "source": [
    "number = [7878, 128, 12999]\n",
    "number = [0.7878, 0.128, 0.12999]\n",
    "if min(number) < 1:\n",
    "    print(f\"{number[0]:8.4f}\")\n",
    "else:\n",
    "    print(f\"{number[0]:4}\")"
   ]
  },
  {
   "cell_type": "code",
   "execution_count": 5,
   "metadata": {},
   "outputs": [],
   "source": [
    "import torch.nn as nn"
   ]
  },
  {
   "cell_type": "code",
   "execution_count": 6,
   "metadata": {},
   "outputs": [],
   "source": [
    "token = nn.Embedding(303, 256)"
   ]
  },
  {
   "cell_type": "code",
   "execution_count": 7,
   "metadata": {},
   "outputs": [],
   "source": [
    "from utils import PrintInputShape\n",
    "printer = PrintInputShape(100)"
   ]
  },
  {
   "cell_type": "code",
   "execution_count": 8,
   "metadata": {},
   "outputs": [
    {
     "name": "stdout",
     "output_type": "stream",
     "text": [
      "token(attrs) : 3d\n",
      "Input's shape : torch.Size([128, 100, 256])\n",
      "\\\n",
      " 128\n",
      "  \\\n",
      "  ^\t[  1.4824,  -0.4085, ...,   0.8307,  -0.0839]\n",
      "  |\t[ -1.0633,   1.9608, ...,   0.1004,  -0.2421]\n",
      "  |\t[ -0.6999,  -1.9913, ...,  -2.4536,  -0.8893]\n",
      "  100\t\t\t...\n",
      "  |\t[ -0.5540,   0.6025, ...,   0.1010,   1.2170]\n",
      "  |\t[ -1.0580,   0.9217, ...,  -0.3540,  -0.3013]\n",
      "  v\t[  0.0265,   0.7177, ...,  -0.1501,  -0.3823]\n",
      "\t<-- 256 -->\n",
      "\n"
     ]
    }
   ],
   "source": [
    "printer.print(token(attrs), 'token(attrs)')"
   ]
  },
  {
   "cell_type": "code",
   "execution_count": null,
   "metadata": {},
   "outputs": [],
   "source": []
  },
  {
   "cell_type": "code",
   "execution_count": null,
   "metadata": {},
   "outputs": [],
   "source": []
  }
 ],
 "metadata": {
  "kernelspec": {
   "display_name": "candidate",
   "language": "python",
   "name": "python3"
  },
  "language_info": {
   "codemirror_mode": {
    "name": "ipython",
    "version": 3
   },
   "file_extension": ".py",
   "mimetype": "text/x-python",
   "name": "python",
   "nbconvert_exporter": "python",
   "pygments_lexer": "ipython3",
   "version": "3.9.9"
  },
  "orig_nbformat": 4,
  "vscode": {
   "interpreter": {
    "hash": "7c9a439ae93980d4049c8b7e2fc8dfa6026c40a268f63cc6d8c2833fbd13c5bf"
   }
  }
 },
 "nbformat": 4,
 "nbformat_minor": 2
}
